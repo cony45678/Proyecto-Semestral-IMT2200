{
 "cells": [
  {
   "cell_type": "code",
   "execution_count": 28,
   "id": "8527e409",
   "metadata": {},
   "outputs": [],
   "source": [
    "#Librerias\n",
    "import matplotlib.pyplot as plt\n",
    "import pandas as pd\n",
    "import os"
   ]
  },
  {
   "cell_type": "code",
   "execution_count": 24,
   "id": "6b8a9756",
   "metadata": {},
   "outputs": [
    {
     "name": "stderr",
     "output_type": "stream",
     "text": [
      "C:\\Users\\gaspa\\AppData\\Local\\Temp\\ipykernel_3888\\761986139.py:1: DtypeWarning: Columns (26) have mixed types. Specify dtype option on import or set low_memory=False.\n",
      "  df24 = pd.read_csv(os.path.join(\"Datos_rendimiento\", \"20250212_Rendimiento_2024_20250131_WEB.csv\"), encoding=\"utf-8\", sep=\";\")\n",
      "C:\\Users\\gaspa\\AppData\\Local\\Temp\\ipykernel_3888\\761986139.py:2: DtypeWarning: Columns (25) have mixed types. Specify dtype option on import or set low_memory=False.\n",
      "  df23 = pd.read_csv(os.path.join(\"Datos_rendimiento\", \"20240209_Rendimiento_2023_20240131_WEB.csv\"), encoding=\"utf-8\", sep=\";\")\n",
      "C:\\Users\\gaspa\\AppData\\Local\\Temp\\ipykernel_3888\\761986139.py:3: DtypeWarning: Columns (25) have mixed types. Specify dtype option on import or set low_memory=False.\n",
      "  df22 = pd.read_csv(os.path.join(\"Datos_rendimiento\", \"20230209_Rendimiento_2022_20230131_WEB.csv\"), encoding=\"utf-8\", sep=\";\")\n",
      "C:\\Users\\gaspa\\AppData\\Local\\Temp\\ipykernel_3888\\761986139.py:4: DtypeWarning: Columns (25) have mixed types. Specify dtype option on import or set low_memory=False.\n",
      "  df21 = pd.read_csv(os.path.join(\"Datos_rendimiento\", \"20220302_Rendimiento_2021_20220131_WEB.csv\"), encoding=\"utf-8\", sep=\";\")\n",
      "C:\\Users\\gaspa\\AppData\\Local\\Temp\\ipykernel_3888\\761986139.py:5: DtypeWarning: Columns (25) have mixed types. Specify dtype option on import or set low_memory=False.\n",
      "  df20 = pd.read_csv(os.path.join(\"Datos_rendimiento\", \"20210223_Rendimiento_2020_20210131_WEB.csv\"), encoding=\"utf-8\", sep=\";\")\n",
      "C:\\Users\\gaspa\\AppData\\Local\\Temp\\ipykernel_3888\\761986139.py:6: DtypeWarning: Columns (25) have mixed types. Specify dtype option on import or set low_memory=False.\n",
      "  df19 = pd.read_csv(os.path.join(\"Datos_rendimiento\", \"20200220_Rendimiento_2019_20200131_PUBL.csv\"), encoding=\"utf-8\", sep=\";\")\n",
      "C:\\Users\\gaspa\\AppData\\Local\\Temp\\ipykernel_3888\\761986139.py:7: DtypeWarning: Columns (25) have mixed types. Specify dtype option on import or set low_memory=False.\n",
      "  df18 = pd.read_csv(os.path.join(\"Datos_rendimiento\", \"20190220_Rendimiento_2018_20190131_PUBL.csv\"), encoding=\"utf-8\", sep=\";\")\n",
      "C:\\Users\\gaspa\\AppData\\Local\\Temp\\ipykernel_3888\\761986139.py:8: DtypeWarning: Columns (24) have mixed types. Specify dtype option on import or set low_memory=False.\n",
      "  df17 = pd.read_csv(os.path.join(\"Datos_rendimiento\", \"20180213_Rendimiento_2017_20180131_PUBL.csv\"), encoding=\"utf-8\", sep=\";\")\n"
     ]
    }
   ],
   "source": [
    "df24 = pd.read_csv(os.path.join(\"Datos_rendimiento\", \"20250212_Rendimiento_2024_20250131_WEB.csv\"), encoding=\"utf-8\", sep=\";\")\n",
    "df23 = pd.read_csv(os.path.join(\"Datos_rendimiento\", \"20240209_Rendimiento_2023_20240131_WEB.csv\"), encoding=\"utf-8\", sep=\";\")\n",
    "df22 = pd.read_csv(os.path.join(\"Datos_rendimiento\", \"20230209_Rendimiento_2022_20230131_WEB.csv\"), encoding=\"utf-8\", sep=\";\")\n",
    "df21 = pd.read_csv(os.path.join(\"Datos_rendimiento\", \"20220302_Rendimiento_2021_20220131_WEB.csv\"), encoding=\"utf-8\", sep=\";\")\n",
    "df20 = pd.read_csv(os.path.join(\"Datos_rendimiento\", \"20210223_Rendimiento_2020_20210131_WEB.csv\"), encoding=\"utf-8\", sep=\";\")\n",
    "df19 = pd.read_csv(os.path.join(\"Datos_rendimiento\", \"20200220_Rendimiento_2019_20200131_PUBL.csv\"), encoding=\"utf-8\", sep=\";\")\n",
    "df18 = pd.read_csv(os.path.join(\"Datos_rendimiento\", \"20190220_Rendimiento_2018_20190131_PUBL.csv\"), encoding=\"utf-8\", sep=\";\")\n",
    "df17 = pd.read_csv(os.path.join(\"Datos_rendimiento\", \"20180213_Rendimiento_2017_20180131_PUBL.csv\"), encoding=\"utf-8\", sep=\";\")"
   ]
  },
  {
   "cell_type": "code",
   "execution_count": 25,
   "id": "b51f2501",
   "metadata": {},
   "outputs": [
    {
     "name": "stderr",
     "output_type": "stream",
     "text": [
      "C:\\Users\\gaspa\\AppData\\Local\\Temp\\ipykernel_3888\\2555509972.py:3: UserWarning: Boolean Series key will be reindexed to match DataFrame index.\n",
      "  df24_e_media = df24_limpio[df24[\"COD_ENSE2\"] == 5]\n",
      "C:\\Users\\gaspa\\AppData\\Local\\Temp\\ipykernel_3888\\2555509972.py:7: UserWarning: Boolean Series key will be reindexed to match DataFrame index.\n",
      "  df23_e_media = df23_limpio[df23[\"COD_ENSE2\"] == 5]\n",
      "C:\\Users\\gaspa\\AppData\\Local\\Temp\\ipykernel_3888\\2555509972.py:11: UserWarning: Boolean Series key will be reindexed to match DataFrame index.\n",
      "  df22_e_media = df22_limpio[df22[\"COD_ENSE2\"] == 5]\n",
      "C:\\Users\\gaspa\\AppData\\Local\\Temp\\ipykernel_3888\\2555509972.py:15: UserWarning: Boolean Series key will be reindexed to match DataFrame index.\n",
      "  df21_e_media = df21_limpio[df21[\"COD_ENSE2\"] == 5]\n",
      "C:\\Users\\gaspa\\AppData\\Local\\Temp\\ipykernel_3888\\2555509972.py:19: UserWarning: Boolean Series key will be reindexed to match DataFrame index.\n",
      "  df20_e_media = df20_limpio[df20[\"COD_ENSE2\"] == 5]\n",
      "C:\\Users\\gaspa\\AppData\\Local\\Temp\\ipykernel_3888\\2555509972.py:23: UserWarning: Boolean Series key will be reindexed to match DataFrame index.\n",
      "  df19_e_media = df19_limpio[df19[\"COD_ENSE2\"] == 5]\n",
      "C:\\Users\\gaspa\\AppData\\Local\\Temp\\ipykernel_3888\\2555509972.py:27: UserWarning: Boolean Series key will be reindexed to match DataFrame index.\n",
      "  df18_e_media = df18_limpio[df18[\"COD_ENSE2\"] == 5]\n",
      "C:\\Users\\gaspa\\AppData\\Local\\Temp\\ipykernel_3888\\2555509972.py:31: UserWarning: Boolean Series key will be reindexed to match DataFrame index.\n",
      "  df17_e_media = df17_limpio[df17[\"cod_ense2\"] == 5]\n"
     ]
    }
   ],
   "source": [
    "df24[\"PROM_GRAL\"] = df24[\"PROM_GRAL\"].str.replace(\",\", \".\", regex=False).str.strip().astype(\"float\")\n",
    "df24_limpio = df24[df24[\"PROM_GRAL\"] != 0]\n",
    "df24_e_media = df24_limpio[df24[\"COD_ENSE2\"] == 5]\n",
    "\n",
    "df23[\"PROM_GRAL\"] = df23[\"PROM_GRAL\"].str.replace(\",\", \".\", regex=False).str.strip().astype(\"float\")\n",
    "df23_limpio = df23[df23[\"PROM_GRAL\"] != 0]\n",
    "df23_e_media = df23_limpio[df23[\"COD_ENSE2\"] == 5]\n",
    "\n",
    "df22[\"PROM_GRAL\"] = df22[\"PROM_GRAL\"].str.replace(\",\", \".\", regex=False).str.strip().astype(\"float\")\n",
    "df22_limpio = df22[df22[\"PROM_GRAL\"] != 0]\n",
    "df22_e_media = df22_limpio[df22[\"COD_ENSE2\"] == 5]\n",
    "\n",
    "df21[\"PROM_GRAL\"] = df21[\"PROM_GRAL\"].str.replace(\",\", \".\", regex=False).str.strip().astype(\"float\")\n",
    "df21_limpio = df21[df21[\"PROM_GRAL\"] != 0]\n",
    "df21_e_media = df21_limpio[df21[\"COD_ENSE2\"] == 5]\n",
    "\n",
    "df20[\"PROM_GRAL\"] = df20[\"PROM_GRAL\"].str.replace(\",\", \".\", regex=False).str.strip().astype(\"float\")\n",
    "df20_limpio = df20[df20[\"PROM_GRAL\"] != 0]\n",
    "df20_e_media = df20_limpio[df20[\"COD_ENSE2\"] == 5]\n",
    "\n",
    "df19[\"PROM_GRAL\"] = df19[\"PROM_GRAL\"].str.replace(\",\", \".\", regex=False).str.strip().astype(\"float\")\n",
    "df19_limpio = df19[df19[\"PROM_GRAL\"] != 0]\n",
    "df19_e_media = df19_limpio[df19[\"COD_ENSE2\"] == 5]\n",
    "\n",
    "df18[\"PROM_GRAL\"] = df18[\"PROM_GRAL\"].str.replace(\",\", \".\", regex=False).str.strip().astype(\"float\")\n",
    "df18_limpio = df18[df18[\"PROM_GRAL\"] != 0]\n",
    "df18_e_media = df18_limpio[df18[\"COD_ENSE2\"] == 5]\n",
    "\n",
    "df17[\"prom_gral\"] = df17[\"prom_gral\"].str.replace(\",\", \".\", regex=False).str.strip().astype(\"float\")\n",
    "df17_limpio = df17[df17[\"prom_gral\"] != 0]\n",
    "df17_e_media = df17_limpio[df17[\"cod_ense2\"] == 5]\n"
   ]
  },
  {
   "cell_type": "code",
   "execution_count": 34,
   "id": "06e68989",
   "metadata": {},
   "outputs": [],
   "source": [
    "pr24 = round(df24_e_media[\"PROM_GRAL\"].mean(), 2)\n",
    "pr23 = round(df23_e_media[\"PROM_GRAL\"].mean(), 2)\n",
    "pr22 = round(df22_e_media[\"PROM_GRAL\"].mean(), 2)\n",
    "pr21 = round(df21_e_media[\"PROM_GRAL\"].mean(), 2)\n",
    "pr20 = round(df20_e_media[\"PROM_GRAL\"].mean(), 2)\n",
    "pr19 = round(df19_e_media[\"PROM_GRAL\"].mean(), 2)\n",
    "pr18 = round(df18_e_media[\"PROM_GRAL\"].mean(), 2)\n",
    "pr17 = round(df17_e_media[\"prom_gral\"].mean(), 2)\n"
   ]
  },
  {
   "cell_type": "code",
   "execution_count": null,
   "id": "53a5447b",
   "metadata": {},
   "outputs": [
    {
     "data": {
      "image/png": "[encoded data removed]",
      "text/plain": [
       "<Figure size 640x480 with 1 Axes>"
      ]
     },
     "metadata": {},
     "output_type": "display_data"
    }
   ],
   "source": [
    "años = ['2017', '2018', '2019', '2020', '2021', '2022', '2023', '2024']\n",
    "promedios = [pr17, pr18, pr19, pr20, pr21, pr22, pr23, pr24]\n",
    "\n",
    "plt.bar(años, promedios)\n",
    "\n",
    "plt.title(\"promedio general educación media 2017-2024\")\n",
    "plt.xlabel(\"años\")\n",
    "plt.ylabel(\"nota\")\n",
    "plt.ylim((5.6), 6)\n",
    "\n",
    "plt.show()"
   ]
  }
 ],
 "metadata": {
  "kernelspec": {
   "display_name": "Python 3",
   "language": "python",
   "name": "python3"
  },
  "language_info": {
   "codemirror_mode": {
    "name": "ipython",
    "version": 3
   },
   "file_extension": ".py",
   "mimetype": "text/x-python",
   "name": "python",
   "nbconvert_exporter": "python",
   "pygments_lexer": "ipython3",
   "version": "3.13.5"
  }
 },
 "nbformat": 4,
 "nbformat_minor": 5
}
